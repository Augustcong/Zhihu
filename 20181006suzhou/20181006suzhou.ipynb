{
 "cells": [
  {
   "cell_type": "code",
   "execution_count": 1,
   "metadata": {},
   "outputs": [],
   "source": [
    "import numpy as np\n",
    "import re\n",
    "import pandas as pd"
   ]
  },
  {
   "cell_type": "code",
   "execution_count": 2,
   "metadata": {},
   "outputs": [],
   "source": [
    "with open('users.txt','r') as f:\n",
    "    content = f.readlines()\n",
    "    users = [{'name':content[i][:-1],'comment':content[i+2][:-1]} for i in range(len(content)-1) if content[i][:-1] == ' '.join(content[i+1].split(' ')[:-1])[:-1]]\n",
    "    users_df = pd.DataFrame(users,columns=['name','comment']).drop_duplicates(subset='name').reset_index(drop=True)"
   ]
  },
  {
   "cell_type": "code",
   "execution_count": 3,
   "metadata": {},
   "outputs": [
    {
     "data": {
      "text/html": [
       "<div>\n",
       "<style scoped>\n",
       "    .dataframe tbody tr th:only-of-type {\n",
       "        vertical-align: middle;\n",
       "    }\n",
       "\n",
       "    .dataframe tbody tr th {\n",
       "        vertical-align: top;\n",
       "    }\n",
       "\n",
       "    .dataframe thead th {\n",
       "        text-align: right;\n",
       "    }\n",
       "</style>\n",
       "<table border=\"1\" class=\"dataframe\">\n",
       "  <thead>\n",
       "    <tr style=\"text-align: right;\">\n",
       "      <th></th>\n",
       "      <th>name</th>\n",
       "      <th>comment</th>\n",
       "    </tr>\n",
       "  </thead>\n",
       "  <tbody>\n",
       "    <tr>\n",
       "      <th>0</th>\n",
       "      <td>张文川</td>\n",
       "      <td>请问10.26和10.27的票是分开的还是一起的？如果是分开的报名10.27（</td>\n",
       "    </tr>\n",
       "    <tr>\n",
       "      <th>1</th>\n",
       "      <td>活泼可爱沙文鱼</td>\n",
       "      <td>我只是技校本科生 可以吗(´;︵;`)</td>\n",
       "    </tr>\n",
       "    <tr>\n",
       "      <th>2</th>\n",
       "      <td>我就是风暴</td>\n",
       "      <td>报名，举手🙋</td>\n",
       "    </tr>\n",
       "    <tr>\n",
       "      <th>3</th>\n",
       "      <td>泮池的鱼</td>\n",
       "      <td>想去</td>\n",
       "    </tr>\n",
       "    <tr>\n",
       "      <th>4</th>\n",
       "      <td>图灵图灵</td>\n",
       "      <td>想去想去！！</td>\n",
       "    </tr>\n",
       "    <tr>\n",
       "      <th>5</th>\n",
       "      <td>stone</td>\n",
       "      <td>举手!</td>\n",
       "    </tr>\n",
       "    <tr>\n",
       "      <th>6</th>\n",
       "      <td>李大壮</td>\n",
       "      <td>报名举手</td>\n",
       "    </tr>\n",
       "    <tr>\n",
       "      <th>7</th>\n",
       "      <td>Truman</td>\n",
       "      <td>想去想去！</td>\n",
       "    </tr>\n",
       "    <tr>\n",
       "      <th>8</th>\n",
       "      <td>mzpmzk</td>\n",
       "      <td>哇，我在苏州哎，想去！</td>\n",
       "    </tr>\n",
       "    <tr>\n",
       "      <th>9</th>\n",
       "      <td>跋锋之寒</td>\n",
       "      <td>举爪，想看看</td>\n",
       "    </tr>\n",
       "    <tr>\n",
       "      <th>10</th>\n",
       "      <td>杨金鑫</td>\n",
       "      <td>希望 眷顾我一下！！！</td>\n",
       "    </tr>\n",
       "    <tr>\n",
       "      <th>11</th>\n",
       "      <td>谢斜斜</td>\n",
       "      <td>报名</td>\n",
       "    </tr>\n",
       "    <tr>\n",
       "      <th>12</th>\n",
       "      <td>别拽我红领巾</td>\n",
       "      <td>大家好，我是蓝翔技校二年级在读挖掘机技师，我想参加本次无人驾驶峰会，为了我的梦想，有一天无人...</td>\n",
       "    </tr>\n",
       "  </tbody>\n",
       "</table>\n",
       "</div>"
      ],
      "text/plain": [
       "       name                                            comment\n",
       "0       张文川            请问10.26和10.27的票是分开的还是一起的？如果是分开的报名10.27（\n",
       "1   活泼可爱沙文鱼                                我只是技校本科生 可以吗(´;︵;`)\n",
       "2     我就是风暴                                             报名，举手🙋\n",
       "3      泮池的鱼                                                 想去\n",
       "4      图灵图灵                                             想去想去！！\n",
       "5     stone                                                举手!\n",
       "6       李大壮                                               报名举手\n",
       "7    Truman                                              想去想去！\n",
       "8    mzpmzk                                        哇，我在苏州哎，想去！\n",
       "9      跋锋之寒                                             举爪，想看看\n",
       "10      杨金鑫                                        希望 眷顾我一下！！！\n",
       "11      谢斜斜                                                 报名\n",
       "12   别拽我红领巾  大家好，我是蓝翔技校二年级在读挖掘机技师，我想参加本次无人驾驶峰会，为了我的梦想，有一天无人..."
      ]
     },
     "execution_count": 3,
     "metadata": {},
     "output_type": "execute_result"
    }
   ],
   "source": [
    "users_df"
   ]
  },
  {
   "cell_type": "code",
   "execution_count": 4,
   "metadata": {},
   "outputs": [],
   "source": [
    "#不参加['张文川']"
   ]
  },
  {
   "cell_type": "code",
   "execution_count": 4,
   "metadata": {
    "scrolled": true
   },
   "outputs": [],
   "source": [
    "f_users_df = users_df.drop(users_df[users_df.name.isin(['张文川'])].index).reset_index(drop=True)"
   ]
  },
  {
   "cell_type": "code",
   "execution_count": 5,
   "metadata": {},
   "outputs": [
    {
     "data": {
      "text/html": [
       "<div>\n",
       "<style scoped>\n",
       "    .dataframe tbody tr th:only-of-type {\n",
       "        vertical-align: middle;\n",
       "    }\n",
       "\n",
       "    .dataframe tbody tr th {\n",
       "        vertical-align: top;\n",
       "    }\n",
       "\n",
       "    .dataframe thead th {\n",
       "        text-align: right;\n",
       "    }\n",
       "</style>\n",
       "<table border=\"1\" class=\"dataframe\">\n",
       "  <thead>\n",
       "    <tr style=\"text-align: right;\">\n",
       "      <th></th>\n",
       "      <th>name</th>\n",
       "      <th>comment</th>\n",
       "    </tr>\n",
       "  </thead>\n",
       "  <tbody>\n",
       "    <tr>\n",
       "      <th>0</th>\n",
       "      <td>活泼可爱沙文鱼</td>\n",
       "      <td>我只是技校本科生 可以吗(´;︵;`)</td>\n",
       "    </tr>\n",
       "    <tr>\n",
       "      <th>1</th>\n",
       "      <td>我就是风暴</td>\n",
       "      <td>报名，举手🙋</td>\n",
       "    </tr>\n",
       "    <tr>\n",
       "      <th>2</th>\n",
       "      <td>泮池的鱼</td>\n",
       "      <td>想去</td>\n",
       "    </tr>\n",
       "    <tr>\n",
       "      <th>3</th>\n",
       "      <td>图灵图灵</td>\n",
       "      <td>想去想去！！</td>\n",
       "    </tr>\n",
       "    <tr>\n",
       "      <th>4</th>\n",
       "      <td>stone</td>\n",
       "      <td>举手!</td>\n",
       "    </tr>\n",
       "    <tr>\n",
       "      <th>5</th>\n",
       "      <td>李大壮</td>\n",
       "      <td>报名举手</td>\n",
       "    </tr>\n",
       "    <tr>\n",
       "      <th>6</th>\n",
       "      <td>Truman</td>\n",
       "      <td>想去想去！</td>\n",
       "    </tr>\n",
       "    <tr>\n",
       "      <th>7</th>\n",
       "      <td>mzpmzk</td>\n",
       "      <td>哇，我在苏州哎，想去！</td>\n",
       "    </tr>\n",
       "    <tr>\n",
       "      <th>8</th>\n",
       "      <td>跋锋之寒</td>\n",
       "      <td>举爪，想看看</td>\n",
       "    </tr>\n",
       "    <tr>\n",
       "      <th>9</th>\n",
       "      <td>杨金鑫</td>\n",
       "      <td>希望 眷顾我一下！！！</td>\n",
       "    </tr>\n",
       "    <tr>\n",
       "      <th>10</th>\n",
       "      <td>谢斜斜</td>\n",
       "      <td>报名</td>\n",
       "    </tr>\n",
       "    <tr>\n",
       "      <th>11</th>\n",
       "      <td>别拽我红领巾</td>\n",
       "      <td>大家好，我是蓝翔技校二年级在读挖掘机技师，我想参加本次无人驾驶峰会，为了我的梦想，有一天无人...</td>\n",
       "    </tr>\n",
       "  </tbody>\n",
       "</table>\n",
       "</div>"
      ],
      "text/plain": [
       "       name                                            comment\n",
       "0   活泼可爱沙文鱼                                我只是技校本科生 可以吗(´;︵;`)\n",
       "1     我就是风暴                                             报名，举手🙋\n",
       "2      泮池的鱼                                                 想去\n",
       "3      图灵图灵                                             想去想去！！\n",
       "4     stone                                                举手!\n",
       "5       李大壮                                               报名举手\n",
       "6    Truman                                              想去想去！\n",
       "7    mzpmzk                                        哇，我在苏州哎，想去！\n",
       "8      跋锋之寒                                             举爪，想看看\n",
       "9       杨金鑫                                        希望 眷顾我一下！！！\n",
       "10      谢斜斜                                                 报名\n",
       "11   别拽我红领巾  大家好，我是蓝翔技校二年级在读挖掘机技师，我想参加本次无人驾驶峰会，为了我的梦想，有一天无人..."
      ]
     },
     "execution_count": 5,
     "metadata": {},
     "output_type": "execute_result"
    }
   ],
   "source": [
    "f_users_df"
   ]
  },
  {
   "cell_type": "code",
   "execution_count": 6,
   "metadata": {},
   "outputs": [
    {
     "name": "stdout",
     "output_type": "stream",
     "text": [
      "当前时间: 2018-10-05 22:57:14.763532\n",
      "开始时间: 2018-10-05 22:58:30\n",
      "开始时间: 2018-10-05 22:58:30\n",
      "获票知友: 杨金鑫\n"
     ]
    }
   ],
   "source": [
    "import time, datetime\n",
    "startTime = datetime.datetime(2018, 10, 5, 22, 58, 30) #9点实际上是我电脑上18点（北京时间17点）\n",
    "print('当前时间: %s' %datetime.datetime.now())\n",
    "print('开始时间: %s' %startTime)\n",
    "while datetime.datetime.now() < startTime:\n",
    "    time.sleep(1)\n",
    "print('开始时间: %s' %startTime)\n",
    "print('获票知友: %s' %np.random.choice(f_users_df['name']))"
   ]
  }
 ],
 "metadata": {
  "kernelspec": {
   "display_name": "Python 3",
   "language": "python",
   "name": "python3"
  },
  "language_info": {
   "codemirror_mode": {
    "name": "ipython",
    "version": 3
   },
   "file_extension": ".py",
   "mimetype": "text/x-python",
   "name": "python",
   "nbconvert_exporter": "python",
   "pygments_lexer": "ipython3",
   "version": "3.6.6"
  }
 },
 "nbformat": 4,
 "nbformat_minor": 2
}
